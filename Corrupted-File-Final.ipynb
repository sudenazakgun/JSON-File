{
 "cells": [
  {
   "cell_type": "markdown",
   "id": "31e98b18-5200-4e58-adf4-c6d0f727805d",
   "metadata": {},
   "source": [
    "BOZUK BİR JSON DOSYASININ VALID VE UN-NESTED HALE GETİRİLMESİ ÇALIŞMASI\n",
    "========"
   ]
  },
  {
   "cell_type": "code",
   "execution_count": 1,
   "id": "871ae2ff-77fb-4a31-a899-11adcc6dd179",
   "metadata": {},
   "outputs": [],
   "source": [
    "import numpy as np\n",
    "import pandas as pd\n",
    "import json\n",
    "from flatten_json import flatten\n",
    "import sqlite3 as sql"
   ]
  },
  {
   "cell_type": "code",
   "execution_count": 2,
   "id": "9dd11149-85de-4471-82de-4beb3db530a1",
   "metadata": {},
   "outputs": [
    {
     "name": "stdout",
     "output_type": "stream",
     "text": [
      "hata giderildi\n"
     ]
    }
   ],
   "source": [
    "#JSON DOSYASINI VALID HALE GETİRME ÇALIŞMALARI\n",
    "\n",
    "with open('corrupted-file.json', 'r') as file:\n",
    "    bozuk_json_str = file.read()\n",
    "\n",
    "duzeltilmis_json_str = f'[{bozuk_json_str}]'\n",
    "\n",
    "try:\n",
    "    duzeltilmis_json = json.loads(duzeltilmis_json_str)\n",
    "    \n",
    "    print(\"hata giderildi\")\n",
    "except json.JSONDecodeError as e:\n",
    "    print(f\"Hata: JSON dosyası düzgün formatta değil. Hata mesajı: {e}\")"
   ]
  },
  {
   "cell_type": "code",
   "execution_count": 3,
   "id": "b31cf51f-b1f3-4f54-af11-265f80b73f27",
   "metadata": {},
   "outputs": [],
   "source": [
    "#DÜZELTTİĞİMİZ DOSYANIN BİR KOPYASINI ALINMASI\n",
    "json_data= duzeltilmis_json.copy()"
   ]
  },
  {
   "cell_type": "code",
   "execution_count": 4,
   "id": "315a3797-90e7-458f-8902-8578b01e51cf",
   "metadata": {},
   "outputs": [],
   "source": [
    "#İÇ İÇE GEÇMİŞ BİR YAPIDA OLAN DOSYAYI UN-NESTED HALE GETİRMEK İÇİN GEREKLİ İŞLEMLER\n",
    "flat_data = []\n",
    "for layer in range(0,len(json_data)):\n",
    "    json_df = pd.json_normalize(json_data[layer])\n",
    "    pure_measurements = json_df['measurements'][0]\n",
    "    for row in pure_measurements:\n",
    "        ts = row['ts']\n",
    "        seri = row['series']\n",
    "        subts = seri['$_time']\n",
    "        keyname = [i for i in seri.keys() if i != '$_time'][0]\n",
    "        olcum = seri[keyname]\n",
    "        flatten_frame = pd.DataFrame({'sub_ts':subts,'olcum_degeri':olcum}).assign(ts = ts).assign(keyname = keyname)\n",
    "        flatten_frame = flatten_frame[['keyname','ts','sub_ts','olcum_degeri']]\n",
    "        flat_data.append(flatten_frame)\n",
    "flat_frame_final = pd.concat(flat_data,axis = 0,ignore_index=True)"
   ]
  },
  {
   "cell_type": "code",
   "execution_count": 5,
   "id": "2bddcb88-4a72-47df-801e-1d74eaa80e72",
   "metadata": {},
   "outputs": [
    {
     "data": {
      "text/html": [
       "<div>\n",
       "<style scoped>\n",
       "    .dataframe tbody tr th:only-of-type {\n",
       "        vertical-align: middle;\n",
       "    }\n",
       "\n",
       "    .dataframe tbody tr th {\n",
       "        vertical-align: top;\n",
       "    }\n",
       "\n",
       "    .dataframe thead th {\n",
       "        text-align: right;\n",
       "    }\n",
       "</style>\n",
       "<table border=\"1\" class=\"dataframe\">\n",
       "  <thead>\n",
       "    <tr style=\"text-align: right;\">\n",
       "      <th></th>\n",
       "      <th>keyname</th>\n",
       "      <th>ts</th>\n",
       "      <th>sub_ts</th>\n",
       "      <th>olcum_degeri</th>\n",
       "    </tr>\n",
       "  </thead>\n",
       "  <tbody>\n",
       "    <tr>\n",
       "      <th>0</th>\n",
       "      <td>FrontPress3_Motor_Vibration.ab-1</td>\n",
       "      <td>2021-02-02T00:59:49.371Z</td>\n",
       "      <td>0</td>\n",
       "      <td>0.434028</td>\n",
       "    </tr>\n",
       "    <tr>\n",
       "      <th>1</th>\n",
       "      <td>FrontPress3_Motor_Vibration.ab-1</td>\n",
       "      <td>2021-02-02T00:59:49.371Z</td>\n",
       "      <td>101</td>\n",
       "      <td>0.438549</td>\n",
       "    </tr>\n",
       "    <tr>\n",
       "      <th>2</th>\n",
       "      <td>FrontPress3_Motor_Vibration.ab-1</td>\n",
       "      <td>2021-02-02T00:59:49.371Z</td>\n",
       "      <td>201</td>\n",
       "      <td>0.434028</td>\n",
       "    </tr>\n",
       "    <tr>\n",
       "      <th>3</th>\n",
       "      <td>FrontPress3_Motor_Vibration.ab-1</td>\n",
       "      <td>2021-02-02T00:59:49.371Z</td>\n",
       "      <td>301</td>\n",
       "      <td>0.434028</td>\n",
       "    </tr>\n",
       "    <tr>\n",
       "      <th>4</th>\n",
       "      <td>FrontPress3_Motor_Vibration.ab-1</td>\n",
       "      <td>2021-02-02T00:59:49.371Z</td>\n",
       "      <td>402</td>\n",
       "      <td>0.432219</td>\n",
       "    </tr>\n",
       "    <tr>\n",
       "      <th>...</th>\n",
       "      <td>...</td>\n",
       "      <td>...</td>\n",
       "      <td>...</td>\n",
       "      <td>...</td>\n",
       "    </tr>\n",
       "    <tr>\n",
       "      <th>3816</th>\n",
       "      <td>RearPress2_Motor_Temperature</td>\n",
       "      <td>2021-02-02T01:00:00.155Z</td>\n",
       "      <td>5001</td>\n",
       "      <td>33.299999</td>\n",
       "    </tr>\n",
       "    <tr>\n",
       "      <th>3817</th>\n",
       "      <td>RearPress2_Motor_Temperature</td>\n",
       "      <td>2021-02-02T01:00:00.155Z</td>\n",
       "      <td>6001</td>\n",
       "      <td>33.299999</td>\n",
       "    </tr>\n",
       "    <tr>\n",
       "      <th>3818</th>\n",
       "      <td>RearPress2_Motor_Temperature</td>\n",
       "      <td>2021-02-02T01:00:00.155Z</td>\n",
       "      <td>7002</td>\n",
       "      <td>33.299999</td>\n",
       "    </tr>\n",
       "    <tr>\n",
       "      <th>3819</th>\n",
       "      <td>RearPress2_Motor_Temperature</td>\n",
       "      <td>2021-02-02T01:00:00.155Z</td>\n",
       "      <td>8002</td>\n",
       "      <td>33.299999</td>\n",
       "    </tr>\n",
       "    <tr>\n",
       "      <th>3820</th>\n",
       "      <td>RearPress2_Motor_Temperature</td>\n",
       "      <td>2021-02-02T01:00:00.155Z</td>\n",
       "      <td>9002</td>\n",
       "      <td>33.299999</td>\n",
       "    </tr>\n",
       "  </tbody>\n",
       "</table>\n",
       "<p>3821 rows × 4 columns</p>\n",
       "</div>"
      ],
      "text/plain": [
       "                               keyname                        ts  sub_ts  \\\n",
       "0     FrontPress3_Motor_Vibration.ab-1  2021-02-02T00:59:49.371Z       0   \n",
       "1     FrontPress3_Motor_Vibration.ab-1  2021-02-02T00:59:49.371Z     101   \n",
       "2     FrontPress3_Motor_Vibration.ab-1  2021-02-02T00:59:49.371Z     201   \n",
       "3     FrontPress3_Motor_Vibration.ab-1  2021-02-02T00:59:49.371Z     301   \n",
       "4     FrontPress3_Motor_Vibration.ab-1  2021-02-02T00:59:49.371Z     402   \n",
       "...                                ...                       ...     ...   \n",
       "3816      RearPress2_Motor_Temperature  2021-02-02T01:00:00.155Z    5001   \n",
       "3817      RearPress2_Motor_Temperature  2021-02-02T01:00:00.155Z    6001   \n",
       "3818      RearPress2_Motor_Temperature  2021-02-02T01:00:00.155Z    7002   \n",
       "3819      RearPress2_Motor_Temperature  2021-02-02T01:00:00.155Z    8002   \n",
       "3820      RearPress2_Motor_Temperature  2021-02-02T01:00:00.155Z    9002   \n",
       "\n",
       "      olcum_degeri  \n",
       "0         0.434028  \n",
       "1         0.438549  \n",
       "2         0.434028  \n",
       "3         0.434028  \n",
       "4         0.432219  \n",
       "...            ...  \n",
       "3816     33.299999  \n",
       "3817     33.299999  \n",
       "3818     33.299999  \n",
       "3819     33.299999  \n",
       "3820     33.299999  \n",
       "\n",
       "[3821 rows x 4 columns]"
      ]
     },
     "execution_count": 5,
     "metadata": {},
     "output_type": "execute_result"
    }
   ],
   "source": [
    "#GEREKLİ İŞLEMLERİN ARDINDAN TABLONUN SON HALİ\n",
    "flat_frame_final"
   ]
  },
  {
   "cell_type": "code",
   "execution_count": 6,
   "id": "409516d2-1b0e-42ce-8da6-38aa12ad2483",
   "metadata": {},
   "outputs": [],
   "source": [
    "#DATABASE OLUŞTURULMASI\n",
    "con = sql.connect('iot.db')"
   ]
  },
  {
   "cell_type": "code",
   "execution_count": 7,
   "id": "315f8bc5-2328-4b0a-8c19-db3180e85830",
   "metadata": {},
   "outputs": [
    {
     "data": {
      "text/plain": [
       "3821"
      ]
     },
     "execution_count": 7,
     "metadata": {},
     "output_type": "execute_result"
    }
   ],
   "source": [
    "#VERİLERİN DATABASE'E BİR TABLO OLARAK YÜKLENMESİ\n",
    "flat_frame_final.to_sql('iot_measurements',con,index=False)"
   ]
  }
 ],
 "metadata": {
  "kernelspec": {
   "display_name": "Python 3 (ipykernel)",
   "language": "python",
   "name": "python3"
  },
  "language_info": {
   "codemirror_mode": {
    "name": "ipython",
    "version": 3
   },
   "file_extension": ".py",
   "mimetype": "text/x-python",
   "name": "python",
   "nbconvert_exporter": "python",
   "pygments_lexer": "ipython3",
   "version": "3.9.13"
  }
 },
 "nbformat": 4,
 "nbformat_minor": 5
}
